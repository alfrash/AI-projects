{
 "cells": [
  {
   "cell_type": "code",
   "execution_count": 15,
   "metadata": {},
   "outputs": [
    {
     "name": "stdout",
     "output_type": "stream",
     "text": [
      "Epoch 1/20\n",
      "1875/1875 [==============================] - 40s 21ms/step - loss: 0.1236 - accuracy: 0.9617\n",
      "Epoch 2/20\n",
      "1875/1875 [==============================] - 40s 21ms/step - loss: 0.0430 - accuracy: 0.9863\n",
      "Epoch 3/20\n",
      "1875/1875 [==============================] - 41s 22ms/step - loss: 0.0254 - accuracy: 0.9920\n",
      "Epoch 4/20\n",
      "1875/1875 [==============================] - 42s 23ms/step - loss: 0.0160 - accuracy: 0.9947\n",
      "Epoch 5/20\n",
      "1875/1875 [==============================] - 43s 23ms/step - loss: 0.0099 - accuracy: 0.9966\n",
      "Epoch 6/20\n",
      "1875/1875 [==============================] - 44s 23ms/step - loss: 0.0080 - accuracy: 0.9974\n",
      "Epoch 7/20\n",
      "1874/1875 [============================>.] - ETA: 0s - loss: 0.0055 - accuracy: 0.9982/n Reached 99.8% accuracy so cancelling training!\n",
      "1875/1875 [==============================] - 45s 24ms/step - loss: 0.0055 - accuracy: 0.9982\n",
      "313/313 [==============================] - 2s 6ms/step - loss: 0.0493 - accuracy: 0.9882\n"
     ]
    }
   ],
   "source": [
    "import tensorflow as tf\n",
    "class myCallback(tf.keras.callbacks.Callback):\n",
    "  def on_epoch_end(self, epoch, logs={}):\n",
    "        if(logs.get('accuracy')>0.998):\n",
    "            print(\"/n Reached 99.8% accuracy so cancelling training!\")\n",
    "            self.model.stop_training = True\n",
    "\n",
    "# YOUR CODE ENDS HERE\n",
    "\n",
    "mnist = tf.keras.datasets.mnist\n",
    "(training_images, training_labels), (test_images, test_labels) = mnist.load_data()\n",
    "# YOUR CODE STARTS HERE\n",
    "\n",
    "callbacks = myCallback()\n",
    "    \n",
    "training_images=training_images.reshape(60000, 28, 28, 1)\n",
    "test_images=test_images.reshape(10000, 28, 28, 1)\n",
    "training_images = training_images / 255.0\n",
    "test_images = test_images / 255.0\n",
    "    # YOUR CODE ENDS HERE\n",
    "\n",
    "model = tf.keras.models.Sequential([\n",
    "    # YOUR CODE STARTS HERE\n",
    "    tf.keras.layers.Conv2D(64, (3,3), activation='relu', input_shape=(28, 28, 1)),\n",
    "    tf.keras.layers.MaxPooling2D(2, 2),\n",
    "    tf.keras.layers.Flatten(),\n",
    "    tf.keras.layers.Dense(256, activation='relu'),\n",
    "    tf.keras.layers.Dense(10, activation='softmax')\n",
    "     # YOUR CODE ENDS HERE\n",
    "])\n",
    "\n",
    "model.compile(optimizer='adam', loss='sparse_categorical_crossentropy', metrics=['accuracy'])\n",
    "model.fit(training_images, training_labels, epochs=20, callbacks=[callbacks])\n",
    "\n",
    "test_lose = model.evaluate(test_images,test_labels)\n"
   ]
  }
 ],
 "metadata": {
  "kernelspec": {
   "display_name": "Python 3",
   "name": "python3"
  },
  "language_info": {
   "codemirror_mode": {
    "name": "ipython",
    "version": 3
   },
   "file_extension": ".py",
   "mimetype": "text/x-python",
   "name": "python",
   "nbconvert_exporter": "python",
   "pygments_lexer": "ipython3",
   "version": "3.8.3"
  },
  "orig_nbformat": 2
 },
 "nbformat": 4,
 "nbformat_minor": 2
}